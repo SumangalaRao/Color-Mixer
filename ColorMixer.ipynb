{
 "cells": [
  {
   "cell_type": "markdown",
   "metadata": {},
   "source": [
    "# color mixer using openCV python:"
   ]
  },
  {
   "cell_type": "markdown",
   "metadata": {},
   "source": [
    "# \n",
    "1.RUN all the cells together at a time!code is  broken down for better understading running one at a time might cause the kernel to become unresponsive as the complete code is not there\n",
    "2.Press the 'q' key to quit img window"
   ]
  },
  {
   "cell_type": "code",
   "execution_count": 21,
   "metadata": {},
   "outputs": [],
   "source": [
    "\"\"\"\n",
    "Created on April 16,2019\n",
    "@author Sumangala Rao\n",
    "\"\"\"\n",
    "#importing the required libraries\n",
    "import cv2\n",
    "import numpy as np"
   ]
  },
  {
   "cell_type": "code",
   "execution_count": 22,
   "metadata": {},
   "outputs": [],
   "source": [
    "#creating a black image\n",
    "img=np.zeros((512,512,3),np.uint8)\n",
    "#creating a window to show our image\n",
    "cv2.namedWindow(\"colorMixer\")\n",
    "cv2.imshow(\"colorMixer\",img)"
   ]
  },
  {
   "cell_type": "code",
   "execution_count": 23,
   "metadata": {},
   "outputs": [],
   "source": [
    "#callback function for the mixer components of the program\n",
    "def callerfunc(x):\n",
    "    pass\n"
   ]
  },
  {
   "cell_type": "code",
   "execution_count": 24,
   "metadata": {},
   "outputs": [],
   "source": [
    "#creating the sliders,that help us mix r,g,b component in the required proportion in the black image created\n",
    "cv2.createTrackbar(\"bluepart\",\"colorMixer\",0,255,callerfunc)\n",
    "cv2.createTrackbar(\"greenpart\",\"colorMixer\",0,255,callerfunc)\n",
    "cv2.createTrackbar(\"redpart\",\"colorMixer\",0,255,callerfunc)"
   ]
  },
  {
   "cell_type": "code",
   "execution_count": 25,
   "metadata": {},
   "outputs": [],
   "source": [
    "#main infinite loop,that does the actuall mixing,takes color component specified by the slider and fills it to the black image\n",
    "while(True):\n",
    "    cv2.imshow(\"colorMixer\",img)\n",
    "    k=cv2.waitKey(1)\n",
    "    if k==ord('q'):\n",
    "        break\n",
    "        \n",
    "    b=cv2.getTrackbarPos(\"bluepart\",\"colorMixer\")\n",
    "    g=cv2.getTrackbarPos(\"greenpart\",\"colorMixer\")\n",
    "    r=cv2.getTrackbarPos(\"redpart\",\"colorMixer\")\n",
    "    \n",
    "    img[:]=[b,g,r]\n",
    "    \n",
    "cv2.destroyAllWindows()"
   ]
  }
 ],
 "metadata": {
  "kernelspec": {
   "display_name": "Python 3",
   "language": "python",
   "name": "python3"
  },
  "language_info": {
   "codemirror_mode": {
    "name": "ipython",
    "version": 3
   },
   "file_extension": ".py",
   "mimetype": "text/x-python",
   "name": "python",
   "nbconvert_exporter": "python",
   "pygments_lexer": "ipython3",
   "version": "3.7.0"
  }
 },
 "nbformat": 4,
 "nbformat_minor": 2
}
